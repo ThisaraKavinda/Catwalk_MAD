{
  "cells": [
    {
      "cell_type": "markdown",
      "metadata": {
        "id": "view-in-github",
        "colab_type": "text"
      },
      "source": [
        "<a href=\"https://colab.research.google.com/github/ThisaraKavinda/Catwalk_MAD/blob/master/Lip_reading_stage_2.ipynb\" target=\"_parent\"><img src=\"https://colab.research.google.com/assets/colab-badge.svg\" alt=\"Open In Colab\"/></a>"
      ]
    },
    {
      "cell_type": "markdown",
      "id": "a3573a47-3689-4668-b62f-5c8451b2b4e9",
      "metadata": {
        "tags": [],
        "id": "a3573a47-3689-4668-b62f-5c8451b2b4e9"
      },
      "source": [
        "# 0. Install and Import Dependencies"
      ]
    },
    {
      "cell_type": "code",
      "execution_count": 1,
      "id": "02f907ea-f669-46c7-adcf-7f257e663448",
      "metadata": {
        "tags": [],
        "id": "02f907ea-f669-46c7-adcf-7f257e663448"
      },
      "outputs": [],
      "source": [
        "# !pip install opencv-python matplotlib imageio gdown tensorflow"
      ]
    },
    {
      "cell_type": "code",
      "execution_count": 2,
      "id": "b24af50c-20b8-409d-ad78-30a933fdd669",
      "metadata": {
        "tags": [],
        "id": "b24af50c-20b8-409d-ad78-30a933fdd669"
      },
      "outputs": [],
      "source": [
        "import os\n",
        "import cv2\n",
        "import tensorflow as tf\n",
        "import numpy as np\n",
        "from typing import List\n",
        "from matplotlib import pyplot as plt\n",
        "import imageio"
      ]
    },
    {
      "cell_type": "code",
      "execution_count": 3,
      "id": "1e3db0b0-e559-4ad6-91fd-e7414b7d75e6",
      "metadata": {
        "id": "1e3db0b0-e559-4ad6-91fd-e7414b7d75e6",
        "colab": {
          "base_uri": "https://localhost:8080/"
        },
        "outputId": "1679e970-0e70-42d5-91b6-8e11730046b6"
      },
      "outputs": [
        {
          "output_type": "execute_result",
          "data": {
            "text/plain": [
              "[PhysicalDevice(name='/physical_device:GPU:0', device_type='GPU')]"
            ]
          },
          "metadata": {},
          "execution_count": 3
        }
      ],
      "source": [
        "tf.config.list_physical_devices('GPU')"
      ]
    },
    {
      "cell_type": "code",
      "execution_count": 4,
      "id": "378d045a-3003-4f93-b7d2-a25a97774a68",
      "metadata": {
        "tags": [],
        "id": "378d045a-3003-4f93-b7d2-a25a97774a68"
      },
      "outputs": [],
      "source": [
        "physical_devices = tf.config.list_physical_devices('GPU')\n",
        "try:\n",
        "    tf.config.experimental.set_memory_growth(physical_devices[0], True)\n",
        "except:\n",
        "    pass"
      ]
    },
    {
      "cell_type": "markdown",
      "id": "7a19e88e-c7b9-45c1-ae1e-f2109329c71b",
      "metadata": {
        "tags": [],
        "id": "7a19e88e-c7b9-45c1-ae1e-f2109329c71b"
      },
      "source": [
        "# 1. Build Data Loading Functions"
      ]
    },
    {
      "cell_type": "code",
      "execution_count": 5,
      "id": "8fb99c90-e05a-437f-839d-6e772f8c1dd5",
      "metadata": {
        "tags": [],
        "id": "8fb99c90-e05a-437f-839d-6e772f8c1dd5"
      },
      "outputs": [],
      "source": [
        "import gdown"
      ]
    },
    {
      "cell_type": "code",
      "execution_count": 6,
      "id": "c019e4c6-2af3-4160-99ea-5c8cb009f1a7",
      "metadata": {
        "tags": [],
        "id": "c019e4c6-2af3-4160-99ea-5c8cb009f1a7",
        "colab": {
          "base_uri": "https://localhost:8080/"
        },
        "outputId": "da05b176-b83e-45ff-9f7e-d6b9a7b98b51"
      },
      "outputs": [
        {
          "output_type": "stream",
          "name": "stderr",
          "text": [
            "Downloading...\n",
            "From: https://drive.google.com/uc?id=14kwGJeaoUUTOkO5l59ufiKfBme5XDs6z\n",
            "To: /content/data.zip\n",
            "100%|██████████| 160M/160M [00:06<00:00, 23.0MB/s]\n"
          ]
        },
        {
          "output_type": "execute_result",
          "data": {
            "text/plain": [
              "['data/',\n",
              " 'data/alignments/',\n",
              " 'data/alignments/s1/',\n",
              " 'data/alignments/s1/Aunty_01.align',\n",
              " 'data/alignments/s1/Aunty_02.align',\n",
              " 'data/alignments/s1/Aunty_03.align',\n",
              " 'data/alignments/s1/Aunty_04.align',\n",
              " 'data/alignments/s1/Aunty_05.align',\n",
              " 'data/alignments/s1/Aunty_06.align',\n",
              " 'data/alignments/s1/Aunty_07.align',\n",
              " 'data/alignments/s1/Aunty_08.align',\n",
              " 'data/alignments/s1/Aunty_09.align',\n",
              " 'data/alignments/s1/Aunty_10.align',\n",
              " 'data/alignments/s1/Deshitha_01.align',\n",
              " 'data/alignments/s1/Deshitha_02.align',\n",
              " 'data/alignments/s1/Deshitha_03.align',\n",
              " 'data/alignments/s1/Deshitha_04.align',\n",
              " 'data/alignments/s1/Deshitha_05.align',\n",
              " 'data/alignments/s1/Deshitha_06.align',\n",
              " 'data/alignments/s1/Deshitha_07.align',\n",
              " 'data/alignments/s1/Deshitha_08.align',\n",
              " 'data/alignments/s1/Deshitha_09.align',\n",
              " 'data/alignments/s1/Deshitha_10.align',\n",
              " 'data/alignments/s1/Hirusha_01.align',\n",
              " 'data/alignments/s1/Hirusha_02.align',\n",
              " 'data/alignments/s1/Hirusha_03.align',\n",
              " 'data/alignments/s1/Hirusha_04.align',\n",
              " 'data/alignments/s1/Hirusha_05.align',\n",
              " 'data/alignments/s1/Hirusha_06.align',\n",
              " 'data/alignments/s1/Hirusha_07.align',\n",
              " 'data/alignments/s1/Hirusha_08.align',\n",
              " 'data/alignments/s1/Hirusha_09.align',\n",
              " 'data/alignments/s1/Hirusha_10.align',\n",
              " 'data/alignments/s1/Maheesha_01.align',\n",
              " 'data/alignments/s1/Maheesha_02.align',\n",
              " 'data/alignments/s1/Maheesha_03.align',\n",
              " 'data/alignments/s1/Maheesha_04.align',\n",
              " 'data/alignments/s1/Maheesha_05.align',\n",
              " 'data/alignments/s1/Maheesha_06.align',\n",
              " 'data/alignments/s1/Maheesha_07.align',\n",
              " 'data/alignments/s1/Maheesha_08.align',\n",
              " 'data/alignments/s1/Maheesha_09.align',\n",
              " 'data/alignments/s1/Maheesha_10.align',\n",
              " 'data/alignments/s1/pamoda_1.align',\n",
              " 'data/alignments/s1/pamoda_10.align',\n",
              " 'data/alignments/s1/pamoda_2.align',\n",
              " 'data/alignments/s1/pamoda_3.align',\n",
              " 'data/alignments/s1/pamoda_4.align',\n",
              " 'data/alignments/s1/pamoda_5.align',\n",
              " 'data/alignments/s1/pamoda_6.align',\n",
              " 'data/alignments/s1/pamoda_7.align',\n",
              " 'data/alignments/s1/pamoda_8.align',\n",
              " 'data/alignments/s1/pamoda_9.align',\n",
              " 'data/alignments/s1/Ravindu_01.align',\n",
              " 'data/alignments/s1/Ravindu_02.align',\n",
              " 'data/alignments/s1/Ravindu_03.align',\n",
              " 'data/alignments/s1/Ravindu_04.align',\n",
              " 'data/alignments/s1/Ravindu_05.align',\n",
              " 'data/alignments/s1/Ravindu_06.align',\n",
              " 'data/alignments/s1/Ravindu_07.align',\n",
              " 'data/alignments/s1/Ravindu_08.align',\n",
              " 'data/alignments/s1/Ravindu_09.align',\n",
              " 'data/alignments/s1/Ravindu_10.align',\n",
              " 'data/alignments/s1/Sis_01.align',\n",
              " 'data/alignments/s1/Sis_02.align',\n",
              " 'data/alignments/s1/Sis_03.align',\n",
              " 'data/alignments/s1/Sis_04.align',\n",
              " 'data/alignments/s1/Sis_05.align',\n",
              " 'data/alignments/s1/Sis_06.align',\n",
              " 'data/alignments/s1/Sis_07.align',\n",
              " 'data/alignments/s1/Sis_08.align',\n",
              " 'data/alignments/s1/Sis_09.align',\n",
              " 'data/alignments/s1/Sis_10.align',\n",
              " 'data/alignments/s1/Thisara_01.align',\n",
              " 'data/alignments/s1/Thisara_02.align',\n",
              " 'data/alignments/s1/Thisara_03.align',\n",
              " 'data/alignments/s1/Thisara_04.align',\n",
              " 'data/alignments/s1/Thisara_05.align',\n",
              " 'data/alignments/s1/Thisara_06.align',\n",
              " 'data/alignments/s1/Thisara_07.align',\n",
              " 'data/alignments/s1/Thisara_08.align',\n",
              " 'data/alignments/s1/Thisara_09.align',\n",
              " 'data/alignments/s1/Thisara_10.align',\n",
              " 'data/alignments/s1/Uncle_01.align',\n",
              " 'data/alignments/s1/Uncle_02.align',\n",
              " 'data/alignments/s1/Uncle_03.align',\n",
              " 'data/alignments/s1/Uncle_04.align',\n",
              " 'data/alignments/s1/Uncle_05.align',\n",
              " 'data/alignments/s1/Uncle_06.align',\n",
              " 'data/alignments/s1/Uncle_07.align',\n",
              " 'data/alignments/s1/Uncle_08.align',\n",
              " 'data/alignments/s1/Uncle_09.align',\n",
              " 'data/alignments/s1/Uncle_10.align',\n",
              " 'data/s1/',\n",
              " 'data/s1/Aunty_01.mp4',\n",
              " 'data/s1/Aunty_02.mp4',\n",
              " 'data/s1/Aunty_03.mp4',\n",
              " 'data/s1/Aunty_04.mp4',\n",
              " 'data/s1/Aunty_05.mp4',\n",
              " 'data/s1/Aunty_06.mp4',\n",
              " 'data/s1/Aunty_07.mp4',\n",
              " 'data/s1/Aunty_08.mp4',\n",
              " 'data/s1/Aunty_09.mp4',\n",
              " 'data/s1/Aunty_10.mp4',\n",
              " 'data/s1/Deshitha_01.mp4',\n",
              " 'data/s1/Deshitha_02.mp4',\n",
              " 'data/s1/Deshitha_03.mp4',\n",
              " 'data/s1/Deshitha_04.mp4',\n",
              " 'data/s1/Deshitha_05.mp4',\n",
              " 'data/s1/Deshitha_06.mp4',\n",
              " 'data/s1/Deshitha_07.mp4',\n",
              " 'data/s1/Deshitha_08.mp4',\n",
              " 'data/s1/Deshitha_09.mp4',\n",
              " 'data/s1/Deshitha_10.mp4',\n",
              " 'data/s1/Hirusha_01.mp4',\n",
              " 'data/s1/Hirusha_02.mp4',\n",
              " 'data/s1/Hirusha_03.mp4',\n",
              " 'data/s1/Hirusha_04.mp4',\n",
              " 'data/s1/Hirusha_05.mp4',\n",
              " 'data/s1/Hirusha_06.mp4',\n",
              " 'data/s1/Hirusha_07.mp4',\n",
              " 'data/s1/Hirusha_08.mp4',\n",
              " 'data/s1/Hirusha_09.mp4',\n",
              " 'data/s1/Hirusha_10.mp4',\n",
              " 'data/s1/Maheesha_01.mp4',\n",
              " 'data/s1/Maheesha_02.mp4',\n",
              " 'data/s1/Maheesha_03.mp4',\n",
              " 'data/s1/Maheesha_04.mp4',\n",
              " 'data/s1/Maheesha_05.mp4',\n",
              " 'data/s1/Maheesha_06.mp4',\n",
              " 'data/s1/Maheesha_07.mp4',\n",
              " 'data/s1/Maheesha_08.mp4',\n",
              " 'data/s1/Maheesha_09.mp4',\n",
              " 'data/s1/Maheesha_10.mp4',\n",
              " 'data/s1/pamoda_1.mp4',\n",
              " 'data/s1/pamoda_10.mp4',\n",
              " 'data/s1/pamoda_2.mp4',\n",
              " 'data/s1/pamoda_3.mp4',\n",
              " 'data/s1/pamoda_4.mp4',\n",
              " 'data/s1/pamoda_5.mp4',\n",
              " 'data/s1/pamoda_6.mp4',\n",
              " 'data/s1/pamoda_7.mp4',\n",
              " 'data/s1/pamoda_8.mp4',\n",
              " 'data/s1/pamoda_9.mp4',\n",
              " 'data/s1/Ravindu_01.mp4',\n",
              " 'data/s1/Ravindu_02.mp4',\n",
              " 'data/s1/Ravindu_03.mp4',\n",
              " 'data/s1/Ravindu_04.mp4',\n",
              " 'data/s1/Ravindu_05.mp4',\n",
              " 'data/s1/Ravindu_06.mp4',\n",
              " 'data/s1/Ravindu_07.mp4',\n",
              " 'data/s1/Ravindu_08.mp4',\n",
              " 'data/s1/Ravindu_09.mp4',\n",
              " 'data/s1/Ravindu_10.mp4',\n",
              " 'data/s1/Sis_01.mp4',\n",
              " 'data/s1/Sis_02.mp4',\n",
              " 'data/s1/Sis_03.mp4',\n",
              " 'data/s1/Sis_04.mp4',\n",
              " 'data/s1/Sis_05.mp4',\n",
              " 'data/s1/Sis_06.mp4',\n",
              " 'data/s1/Sis_07.mp4',\n",
              " 'data/s1/Sis_08.mp4',\n",
              " 'data/s1/Sis_09.mp4',\n",
              " 'data/s1/Sis_10.mp4',\n",
              " 'data/s1/Thisara_01.mp4',\n",
              " 'data/s1/Thisara_02.mp4',\n",
              " 'data/s1/Thisara_03.mp4',\n",
              " 'data/s1/Thisara_04.mp4',\n",
              " 'data/s1/Thisara_05.mp4',\n",
              " 'data/s1/Thisara_06.mp4',\n",
              " 'data/s1/Thisara_07.mp4',\n",
              " 'data/s1/Thisara_08.mp4',\n",
              " 'data/s1/Thisara_09.mp4',\n",
              " 'data/s1/Thisara_10.mp4',\n",
              " 'data/s1/Uncle_01.mp4',\n",
              " 'data/s1/Uncle_02.mp4',\n",
              " 'data/s1/Uncle_03.mp4',\n",
              " 'data/s1/Uncle_04.mp4',\n",
              " 'data/s1/Uncle_05.mp4',\n",
              " 'data/s1/Uncle_06.mp4',\n",
              " 'data/s1/Uncle_07.mp4',\n",
              " 'data/s1/Uncle_08.mp4',\n",
              " 'data/s1/Uncle_09.mp4',\n",
              " 'data/s1/Uncle_10.mp4']"
            ]
          },
          "metadata": {},
          "execution_count": 6
        }
      ],
      "source": [
        "url = 'https://drive.google.com/uc?id=14kwGJeaoUUTOkO5l59ufiKfBme5XDs6z'\n",
        "output = 'data.zip'\n",
        "gdown.download(url, output, quiet=False)\n",
        "gdown.extractall('data.zip')"
      ]
    },
    {
      "cell_type": "code",
      "execution_count": 7,
      "id": "8548cc59-6dfc-4acc-abc3-3e65212db02e",
      "metadata": {
        "tags": [],
        "id": "8548cc59-6dfc-4acc-abc3-3e65212db02e"
      },
      "outputs": [],
      "source": [
        "def load_video(path:str) -> List[float]:\n",
        "    # print(path)\n",
        "    cap = cv2.VideoCapture(path)\n",
        "    frame_count = int(cap.get(cv2.CAP_PROP_FRAME_COUNT))\n",
        "    if frame_count != 35:\n",
        "        raise ValueError(f\"Video {path} has {frame_count} frames, but it should have 35 frames.\")\n",
        "    frames = []\n",
        "    for _ in range(int(cap.get(cv2.CAP_PROP_FRAME_COUNT))):\n",
        "        ret, frame = cap.read()\n",
        "        # print(frame.shape, \"=====\", path)\n",
        "        try:\n",
        "            frame = tf.image.rgb_to_grayscale(frame)\n",
        "            frames.append(frame[650:850,250:500,:])\n",
        "        except tf.errors.InvalidArgumentError as e:\n",
        "            continue\n",
        "    cap.release()\n",
        "\n",
        "    mean = tf.math.reduce_mean(frames)\n",
        "    std = tf.math.reduce_std(tf.cast(frames, tf.float32))\n",
        "    return tf.cast((frames - mean), tf.float32) / std"
      ]
    },
    {
      "cell_type": "code",
      "execution_count": 8,
      "id": "ec735e0b-ec98-4eb0-8f49-c35527d6670a",
      "metadata": {
        "tags": [],
        "id": "ec735e0b-ec98-4eb0-8f49-c35527d6670a"
      },
      "outputs": [],
      "source": [
        "vocab = [\"එ\", \"ක\", \"දෙ\", \"තු\", \"න\", \"හ\", \"ත\", \"ර\", \"ප\", \"ය\", \"අ\", \"ට\", \"ම\", \"ද\"]"
      ]
    },
    {
      "cell_type": "code",
      "execution_count": 9,
      "id": "be04e972-d7a5-4a72-82d8-a6bdde1f3ce6",
      "metadata": {
        "tags": [],
        "id": "be04e972-d7a5-4a72-82d8-a6bdde1f3ce6",
        "colab": {
          "base_uri": "https://localhost:8080/"
        },
        "outputId": "504b555d-12d4-4121-9408-46e13ac3c363"
      },
      "outputs": [
        {
          "output_type": "stream",
          "name": "stdout",
          "text": [
            "The vocabulary is: ['', 'එ', 'ක', 'දෙ', 'තු', 'න', 'හ', 'ත', 'ර', 'ප', 'ය', 'අ', 'ට', 'ම', 'ද'] (size =15)\n"
          ]
        }
      ],
      "source": [
        "char_to_num = tf.keras.layers.StringLookup(vocabulary=vocab, oov_token=\"\")\n",
        "num_to_char = tf.keras.layers.StringLookup(\n",
        "    vocabulary=char_to_num.get_vocabulary(), oov_token=\"\", invert=True\n",
        ")\n",
        "\n",
        "print(\n",
        "    f\"The vocabulary is: {char_to_num.get_vocabulary()} \"\n",
        "    f\"(size ={char_to_num.vocabulary_size()})\"\n",
        ")"
      ]
    },
    {
      "cell_type": "code",
      "execution_count": 10,
      "id": "559f7420-6802-45fa-9ca0-b1ff209b461c",
      "metadata": {
        "tags": [],
        "id": "559f7420-6802-45fa-9ca0-b1ff209b461c",
        "colab": {
          "base_uri": "https://localhost:8080/"
        },
        "outputId": "a0143d00-80a2-4d65-a98d-b8ecccb81ed7"
      },
      "outputs": [
        {
          "output_type": "execute_result",
          "data": {
            "text/plain": [
              "['', 'එ', 'ක', 'දෙ', 'තු', 'න', 'හ', 'ත', 'ර', 'ප', 'ය', 'අ', 'ට', 'ම', 'ද']"
            ]
          },
          "metadata": {},
          "execution_count": 10
        }
      ],
      "source": [
        "char_to_num.get_vocabulary()"
      ]
    },
    {
      "cell_type": "code",
      "execution_count": 11,
      "id": "797ff78b-b48f-4e14-bb62-8cd0ebf9501a",
      "metadata": {
        "tags": [],
        "id": "797ff78b-b48f-4e14-bb62-8cd0ebf9501a",
        "colab": {
          "base_uri": "https://localhost:8080/"
        },
        "outputId": "cf9b49cf-d12e-468c-f1df-13b2be836d39"
      },
      "outputs": [
        {
          "output_type": "execute_result",
          "data": {
            "text/plain": [
              "<tf.Tensor: shape=(4,), dtype=int64, numpy=array([ 2,  8, 10,  0])>"
            ]
          },
          "metadata": {},
          "execution_count": 11
        }
      ],
      "source": [
        "char_to_num(['ක','ර','ය','k'])"
      ]
    },
    {
      "cell_type": "code",
      "execution_count": 12,
      "id": "8cd7f4f4-ae77-4509-a4f4-c723787ebad1",
      "metadata": {
        "id": "8cd7f4f4-ae77-4509-a4f4-c723787ebad1",
        "colab": {
          "base_uri": "https://localhost:8080/"
        },
        "outputId": "89ffcac5-d47f-441b-f0d1-4cd2c7b4a980"
      },
      "outputs": [
        {
          "output_type": "execute_result",
          "data": {
            "text/plain": [
              "<tf.Tensor: shape=(4,), dtype=string, numpy=\n",
              "array([b'\\xe0\\xb6\\xaf', b'\\xe0\\xb6\\xb4', b'\\xe0\\xb6\\xaf\\xe0\\xb7\\x99',\n",
              "       b'\\xe0\\xb6\\x85'], dtype=object)>"
            ]
          },
          "metadata": {},
          "execution_count": 12
        }
      ],
      "source": [
        "num_to_char([14,  9,  3, 11])"
      ]
    },
    {
      "cell_type": "code",
      "source": [
        "num_to_char_result = num_to_char([14,  9,  3, 11])\n",
        "[char.decode('utf-8') for char in num_to_char_result.numpy()]"
      ],
      "metadata": {
        "colab": {
          "base_uri": "https://localhost:8080/"
        },
        "id": "5I88vZzM70L6",
        "outputId": "8e511d89-7fb8-4f90-cfe2-8fb8fb2ccb6b"
      },
      "id": "5I88vZzM70L6",
      "execution_count": 13,
      "outputs": [
        {
          "output_type": "execute_result",
          "data": {
            "text/plain": [
              "['ද', 'ප', 'දෙ', 'අ']"
            ]
          },
          "metadata": {},
          "execution_count": 13
        }
      ]
    },
    {
      "cell_type": "code",
      "execution_count": 14,
      "id": "9491bab5-6a3c-4f79-879a-8f9fbe73ae2e",
      "metadata": {
        "tags": [],
        "id": "9491bab5-6a3c-4f79-879a-8f9fbe73ae2e"
      },
      "outputs": [],
      "source": [
        "def load_alignments(path:str) -> List[str]:\n",
        "    with open(path, 'r') as f:\n",
        "      lines = f.readlines()\n",
        "    tokens = []\n",
        "    for line in lines:\n",
        "        line = line.strip()  # Remove leading/trailing whitespace from the line\n",
        "        # tokens = [*tokens,' ',line]\n",
        "        tokens.extend(list(line + ' '))\n",
        "    # return char_to_num(tf.reshape(tf.strings.unicode_split(tokens, input_encoding='UTF-8'), (-1)))\n",
        "    token_tensor = tf.constant(tokens)  # Convert to TensorFlow tensor\n",
        "    return char_to_num(token_tensor)"
      ]
    },
    {
      "cell_type": "code",
      "execution_count": 15,
      "id": "dd01ca9f-77fb-4643-a2aa-47dd82c5d66b",
      "metadata": {
        "tags": [],
        "id": "dd01ca9f-77fb-4643-a2aa-47dd82c5d66b"
      },
      "outputs": [],
      "source": [
        "def load_data(path: str):\n",
        "    # print(path)\n",
        "    path = bytes.decode(path.numpy())\n",
        "    file_name = path.split('/')[-1].split('.')[0]\n",
        "    video_path = os.path.join('data','s1',f'{file_name}.mp4')\n",
        "    alignment_path = os.path.join('data','alignments','s1',f'{file_name}.align')\n",
        "    frames = load_video(video_path)\n",
        "    alignments = load_alignments(alignment_path)\n",
        "\n",
        "    return frames, alignments"
      ]
    },
    {
      "cell_type": "code",
      "execution_count": 16,
      "id": "8cb7cc58-31ae-4904-a805-1177a82717d2",
      "metadata": {
        "tags": [],
        "id": "8cb7cc58-31ae-4904-a805-1177a82717d2"
      },
      "outputs": [],
      "source": [
        "test_path = '/content/data/s1/Maheesha_02.mp4'"
      ]
    },
    {
      "cell_type": "code",
      "execution_count": 17,
      "id": "76aa964f-0c84-490d-897a-d00e3966e2c9",
      "metadata": {
        "id": "76aa964f-0c84-490d-897a-d00e3966e2c9",
        "colab": {
          "base_uri": "https://localhost:8080/",
          "height": 35
        },
        "outputId": "d57d733b-864e-41d8-a9af-6419ee5620ef"
      },
      "outputs": [
        {
          "output_type": "execute_result",
          "data": {
            "text/plain": [
              "'/content/data/s1/Maheesha_02'"
            ],
            "application/vnd.google.colaboratory.intrinsic+json": {
              "type": "string"
            }
          },
          "metadata": {},
          "execution_count": 17
        }
      ],
      "source": [
        "tf.convert_to_tensor(test_path).numpy().decode('utf-8').split('\\\\')[-1].split('.')[0]"
      ]
    },
    {
      "cell_type": "code",
      "execution_count": 18,
      "id": "eb602c71-8560-4f9e-b26b-08202febb937",
      "metadata": {
        "scrolled": true,
        "tags": [],
        "id": "eb602c71-8560-4f9e-b26b-08202febb937"
      },
      "outputs": [],
      "source": [
        "frames, alignments = load_data(tf.convert_to_tensor(test_path))"
      ]
    },
    {
      "cell_type": "code",
      "source": [
        "frames.shape"
      ],
      "metadata": {
        "colab": {
          "base_uri": "https://localhost:8080/"
        },
        "id": "Gm1kcM8qJLQ4",
        "outputId": "c4865a50-f40c-4a32-f08f-29fea985b5f5"
      },
      "id": "Gm1kcM8qJLQ4",
      "execution_count": 19,
      "outputs": [
        {
          "output_type": "execute_result",
          "data": {
            "text/plain": [
              "TensorShape([35, 200, 250, 1])"
            ]
          },
          "metadata": {},
          "execution_count": 19
        }
      ]
    },
    {
      "cell_type": "code",
      "execution_count": 20,
      "id": "0e3184a1-6b02-4b4f-84a8-a0a65f951ea2",
      "metadata": {
        "id": "0e3184a1-6b02-4b4f-84a8-a0a65f951ea2",
        "colab": {
          "base_uri": "https://localhost:8080/",
          "height": 451
        },
        "outputId": "1da75e73-98fb-4b93-fc0b-0f7dce8d9d02"
      },
      "outputs": [
        {
          "output_type": "execute_result",
          "data": {
            "text/plain": [
              "<matplotlib.image.AxesImage at 0x7b36c03e25f0>"
            ]
          },
          "metadata": {},
          "execution_count": 20
        },
        {
          "output_type": "display_data",
          "data": {
            "text/plain": [
              "<Figure size 640x480 with 1 Axes>"
            ],
            "image/png": "[encoded data removed]"
          },
          "metadata": {}
        }
      ],
      "source": [
        "plt.imshow(frames[8])"
      ]
    },
    {
      "cell_type": "code",
      "execution_count": 21,
      "id": "d7ec0833-d54b-4073-84cf-92d011c60ec1",
      "metadata": {
        "id": "d7ec0833-d54b-4073-84cf-92d011c60ec1",
        "colab": {
          "base_uri": "https://localhost:8080/"
        },
        "outputId": "50b6d890-69c5-456d-d79e-cc755af73ea9"
      },
      "outputs": [
        {
          "output_type": "execute_result",
          "data": {
            "text/plain": [
              "<tf.Tensor: shape=(5,), dtype=int64, numpy=array([14,  0,  0,  2,  0])>"
            ]
          },
          "metadata": {},
          "execution_count": 21
        }
      ],
      "source": [
        "alignments"
      ]
    },
    {
      "cell_type": "code",
      "execution_count": 22,
      "id": "fe1ad370-b287-4b46-85a2-7c45b0bd9b10",
      "metadata": {
        "id": "fe1ad370-b287-4b46-85a2-7c45b0bd9b10",
        "colab": {
          "base_uri": "https://localhost:8080/"
        },
        "outputId": "3312e126-d85e-4be0-a568-bddb2e23c6de"
      },
      "outputs": [
        {
          "output_type": "execute_result",
          "data": {
            "text/plain": [
              "<tf.Tensor: shape=(), dtype=string, numpy=b'\\xe0\\xb6\\xaf\\xe0\\xb6\\x9a'>"
            ]
          },
          "metadata": {},
          "execution_count": 22
        }
      ],
      "source": [
        "tf.strings.reduce_join([bytes.decode(x) for x in num_to_char(alignments.numpy()).numpy()])"
      ]
    },
    {
      "cell_type": "code",
      "source": [
        "# num_to_char_result = num_to_char(alignments.numpy())\n",
        "# tf.strings.reduce_join([char.decode('utf-8') for char in num_to_char_result.numpy()])"
      ],
      "metadata": {
        "id": "zVLYlhpj9cnm"
      },
      "id": "zVLYlhpj9cnm",
      "execution_count": 23,
      "outputs": []
    },
    {
      "cell_type": "code",
      "execution_count": 24,
      "id": "6871031a-b0ba-4c76-a852-f6329b0f2606",
      "metadata": {
        "tags": [],
        "id": "6871031a-b0ba-4c76-a852-f6329b0f2606"
      },
      "outputs": [],
      "source": [
        "def mappable_function(path:str) ->List[str]:\n",
        "    result = tf.py_function(load_data, [path], (tf.float32, tf.int64))\n",
        "    return result"
      ]
    },
    {
      "cell_type": "markdown",
      "id": "c40a7eb4-0c3e-4eab-9291-5611cb68ce08",
      "metadata": {
        "tags": [],
        "id": "c40a7eb4-0c3e-4eab-9291-5611cb68ce08"
      },
      "source": [
        "# 2. Create Data Pipeline"
      ]
    },
    {
      "cell_type": "code",
      "execution_count": 25,
      "id": "7686355d-45aa-4c85-ad9c-053e6a9b4d81",
      "metadata": {
        "tags": [],
        "id": "7686355d-45aa-4c85-ad9c-053e6a9b4d81"
      },
      "outputs": [],
      "source": [
        "from matplotlib import pyplot as plt"
      ]
    },
    {
      "cell_type": "code",
      "execution_count": 26,
      "id": "f066fea2-91b1-42ed-a67d-00566a1a53ff",
      "metadata": {
        "tags": [],
        "id": "f066fea2-91b1-42ed-a67d-00566a1a53ff",
        "colab": {
          "base_uri": "https://localhost:8080/"
        },
        "outputId": "f901ad2a-bc78-4c13-f13c-37407e2ed116"
      },
      "outputs": [
        {
          "output_type": "stream",
          "name": "stdout",
          "text": [
            "<_ShuffleDataset element_spec=TensorSpec(shape=(), dtype=tf.string, name=None)>\n"
          ]
        }
      ],
      "source": [
        "data = tf.data.Dataset.list_files('./data/s1/*.mp4')\n",
        "print(data)\n",
        "data = data.shuffle(50, reshuffle_each_iteration=False)\n",
        "data = data.map(mappable_function)\n",
        "data = data.padded_batch(2, padded_shapes=([35,None,None,None],[14]))\n",
        "data = data.prefetch(tf.data.AUTOTUNE)\n",
        "# Added for split\n",
        "train = data.take(35)\n",
        "test = data.skip(10)"
      ]
    },
    {
      "cell_type": "code",
      "execution_count": 27,
      "id": "6b1365bd-7742-41d1-95d4-247021751c3a",
      "metadata": {
        "id": "6b1365bd-7742-41d1-95d4-247021751c3a",
        "colab": {
          "base_uri": "https://localhost:8080/"
        },
        "outputId": "186498a6-49c5-48c4-8999-da5390c51f52"
      },
      "outputs": [
        {
          "output_type": "execute_result",
          "data": {
            "text/plain": [
              "35"
            ]
          },
          "metadata": {},
          "execution_count": 27
        }
      ],
      "source": [
        "len(test)"
      ]
    },
    {
      "cell_type": "code",
      "execution_count": 28,
      "id": "5281bde8-fdc8-4da1-bd55-5a7929a9e80c",
      "metadata": {
        "id": "5281bde8-fdc8-4da1-bd55-5a7929a9e80c"
      },
      "outputs": [],
      "source": [
        "frames, alignments = data.as_numpy_iterator().next()"
      ]
    },
    {
      "cell_type": "code",
      "source": [
        "alignments"
      ],
      "metadata": {
        "colab": {
          "base_uri": "https://localhost:8080/"
        },
        "id": "j-rHEE7cYbMe",
        "outputId": "18597802-603c-42c0-93e5-63cd183a9077"
      },
      "id": "j-rHEE7cYbMe",
      "execution_count": 29,
      "outputs": [
        {
          "output_type": "execute_result",
          "data": {
            "text/plain": [
              "array([[14,  0,  0,  2,  0,  0,  0,  0,  0,  0,  0,  0,  0,  0],\n",
              "       [ 5,  0, 13,  0, 10,  0,  0,  0,  0,  0,  0,  0,  0,  0]])"
            ]
          },
          "metadata": {},
          "execution_count": 29
        }
      ]
    },
    {
      "cell_type": "code",
      "execution_count": 30,
      "id": "cbebe683-6afd-47fd-bba4-c83b4b13bb32",
      "metadata": {
        "id": "cbebe683-6afd-47fd-bba4-c83b4b13bb32",
        "colab": {
          "base_uri": "https://localhost:8080/"
        },
        "outputId": "b61aba08-6835-41b8-936f-a4e62da9d98a"
      },
      "outputs": [
        {
          "output_type": "execute_result",
          "data": {
            "text/plain": [
              "2"
            ]
          },
          "metadata": {},
          "execution_count": 30
        }
      ],
      "source": [
        "len(frames)"
      ]
    },
    {
      "cell_type": "code",
      "execution_count": 31,
      "id": "5cf2d676-93a9-434c-b3c7-bdcc2577b2e7",
      "metadata": {
        "tags": [],
        "id": "5cf2d676-93a9-434c-b3c7-bdcc2577b2e7"
      },
      "outputs": [],
      "source": [
        "sample = data.as_numpy_iterator()"
      ]
    },
    {
      "cell_type": "code",
      "execution_count": 32,
      "id": "efa6cd46-7079-46c0-b45b-832f339f6cb0",
      "metadata": {
        "scrolled": true,
        "tags": [],
        "id": "efa6cd46-7079-46c0-b45b-832f339f6cb0"
      },
      "outputs": [],
      "source": [
        "val = sample.next();"
      ]
    },
    {
      "cell_type": "code",
      "execution_count": 33,
      "id": "acf5eb4f-a0da-4a9a-bf24-af13e9cc2fbe",
      "metadata": {
        "tags": [],
        "id": "acf5eb4f-a0da-4a9a-bf24-af13e9cc2fbe"
      },
      "outputs": [],
      "source": [
        "# imageio.mimsave('./animation.gif', val[0][0], fps=10)"
      ]
    },
    {
      "cell_type": "code",
      "execution_count": 34,
      "id": "c33a87a2-d5e0-4ec9-b174-73ebf41bf03a",
      "metadata": {
        "tags": [],
        "id": "c33a87a2-d5e0-4ec9-b174-73ebf41bf03a",
        "outputId": "49a84d77-f819-46e9-e0b9-33f12ce3a3d1",
        "colab": {
          "base_uri": "https://localhost:8080/",
          "height": 451
        }
      },
      "outputs": [
        {
          "output_type": "execute_result",
          "data": {
            "text/plain": [
              "<matplotlib.image.AxesImage at 0x7b367a90e230>"
            ]
          },
          "metadata": {},
          "execution_count": 34
        },
        {
          "output_type": "display_data",
          "data": {
            "text/plain": [
              "<Figure size 640x480 with 1 Axes>"
            ],
            "image/png": "[encoded data removed]"
          },
          "metadata": {}
        }
      ],
      "source": [
        "# 0:videos, 0: 1st video out of the batch,  0: return the first frame in the video\n",
        "plt.imshow(val[0][0][1])"
      ]
    },
    {
      "cell_type": "code",
      "execution_count": 35,
      "id": "84593332-133c-4205-b7a6-8e235d5e2b3b",
      "metadata": {
        "tags": [],
        "id": "84593332-133c-4205-b7a6-8e235d5e2b3b",
        "outputId": "79ec5479-5dfd-4d75-c464-81b3c5c82199",
        "colab": {
          "base_uri": "https://localhost:8080/"
        }
      },
      "outputs": [
        {
          "output_type": "execute_result",
          "data": {
            "text/plain": [
              "<tf.Tensor: shape=(), dtype=string, numpy=b'\\xe0\\xb6\\xaf\\xe0\\xb6\\x9a'>"
            ]
          },
          "metadata": {},
          "execution_count": 35
        }
      ],
      "source": [
        "tf.strings.reduce_join([num_to_char(word) for word in val[1][0]])"
      ]
    },
    {
      "cell_type": "code",
      "source": [
        "# num_to_char_result = tf.strings.reduce_join([num_to_char(word) for word in val[1][0]])\n",
        "# [char.decode('utf-8') for char in num_to_char_result.numpy()]"
      ],
      "metadata": {
        "id": "xby62cNx_cqA"
      },
      "id": "xby62cNx_cqA",
      "execution_count": 36,
      "outputs": []
    },
    {
      "cell_type": "markdown",
      "id": "0f47733c-83bc-465c-b118-b198b492ad37",
      "metadata": {
        "tags": [],
        "id": "0f47733c-83bc-465c-b118-b198b492ad37"
      },
      "source": [
        "# 3. Design the Deep Neural Network"
      ]
    },
    {
      "cell_type": "code",
      "execution_count": 37,
      "id": "d8e9a497-191b-4842-afbd-26f5e13c43ba",
      "metadata": {
        "tags": [],
        "id": "d8e9a497-191b-4842-afbd-26f5e13c43ba"
      },
      "outputs": [],
      "source": [
        "from tensorflow.keras.models import Sequential\n",
        "from tensorflow.keras.layers import Conv3D, LSTM, Dense, Dropout, Bidirectional, MaxPool3D, Activation, Reshape, SpatialDropout3D, BatchNormalization, TimeDistributed, Flatten\n",
        "from tensorflow.keras.optimizers import Adam\n",
        "from tensorflow.keras.callbacks import ModelCheckpoint, LearningRateScheduler\n",
        "from tensorflow.keras import regularizers"
      ]
    },
    {
      "cell_type": "code",
      "execution_count": 38,
      "id": "3f753ed2-70b9-4236-8c1c-08ca065dc8bf",
      "metadata": {
        "id": "3f753ed2-70b9-4236-8c1c-08ca065dc8bf"
      },
      "outputs": [],
      "source": [
        "# data.as_numpy_iterator().next()[0][0].shape"
      ]
    },
    {
      "cell_type": "code",
      "execution_count": 39,
      "id": "f9171056-a352-491a-9ed9-92b28ced268e",
      "metadata": {
        "tags": [],
        "id": "f9171056-a352-491a-9ed9-92b28ced268e"
      },
      "outputs": [],
      "source": [
        "model = Sequential()\n",
        "model.add(Conv3D(128, 3, input_shape=(35,200,250,1), padding='same'))\n",
        "model.add(Activation('relu'))\n",
        "model.add(MaxPool3D((1,2,2)))\n",
        "\n",
        "model.add(Conv3D(256, 3, padding='same'))\n",
        "model.add(Activation('relu'))\n",
        "model.add(MaxPool3D((1,2,2)))\n",
        "\n",
        "model.add(Conv3D(35, 3, padding='same'))\n",
        "model.add(Activation('relu'))\n",
        "model.add(MaxPool3D((1,2,2)))\n",
        "\n",
        "model.add(TimeDistributed(Flatten()))\n",
        "\n",
        "model.add(Bidirectional(LSTM(128, kernel_initializer='Orthogonal', return_sequences=True)))\n",
        "model.add(Dropout(.5))\n",
        "\n",
        "model.add(Bidirectional(LSTM(128, kernel_initializer='Orthogonal', return_sequences=True)))\n",
        "model.add(Dropout(.5))\n",
        "\n",
        "model.add(Dense(char_to_num.vocabulary_size()+1, kernel_initializer='he_normal', activation='softmax'))\n",
        "\n",
        "# model.add(TimeDistributed(Dense(1, activation='softmax')))\n",
        "\n",
        "# model = Sequential()\n",
        "# model.add(Conv3D(128, (3, 5, 7), input_shape=(35, 200, 250, 1), padding='same'))\n",
        "# model.add(Activation('relu'))\n",
        "# model.add(MaxPool3D((1, 2, 2)))\n",
        "\n",
        "# model.add(Conv3D(256, (3, 5, 7), padding='same'))\n",
        "# model.add(Activation('relu'))\n",
        "# model.add(MaxPool3D((1, 2, 2)))\n",
        "\n",
        "# model.add(Conv3D(75, (3, 5, 7), padding='same'))\n",
        "# model.add(Activation('relu'))\n",
        "# model.add(MaxPool3D((1, 2, 2)))\n",
        "\n",
        "# model.add(TimeDistributed(Flatten()))\n",
        "\n",
        "# model.add(Bidirectional(LSTM(16, kernel_initializer='Orthogonal', return_sequences=True)))\n",
        "# model.add(Dropout(0.5))\n",
        "\n",
        "# model.add(Bidirectional(LSTM(16, kernel_initializer='Orthogonal', return_sequences=True)))\n",
        "# model.add(Dropout(0.5))\n",
        "\n",
        "# model.add(Bidirectional(LSTM(16, kernel_initializer='Orthogonal', return_sequences=True, recurrent_dropout=0.5)))\n",
        "\n",
        "# model.add(Bidirectional(LSTM(16, kernel_initializer='Orthogonal', return_sequences=True, recurrent_dropout=0.5)))\n",
        "\n",
        "# model.add(Dense(char_to_num.vocabulary_size() + 1, kernel_initializer='he_normal', activation='softmax'))\n"
      ]
    },
    {
      "cell_type": "code",
      "execution_count": 40,
      "id": "78851825-2bcd-42a9-b7f2-28bb5a6bf43a",
      "metadata": {
        "collapsed": true,
        "jupyter": {
          "outputs_hidden": true
        },
        "tags": [],
        "id": "78851825-2bcd-42a9-b7f2-28bb5a6bf43a",
        "outputId": "4557273e-b088-4f03-f9ff-da778c13fd26",
        "colab": {
          "base_uri": "https://localhost:8080/"
        }
      },
      "outputs": [
        {
          "output_type": "stream",
          "name": "stdout",
          "text": [
            "Model: \"sequential\"\n",
            "_________________________________________________________________\n",
            " Layer (type)                Output Shape              Param #   \n",
            "=================================================================\n",
            " conv3d (Conv3D)             (None, 35, 200, 250, 12   3584      \n",
            "                             8)                                  \n",
            "                                                                 \n",
            " activation (Activation)     (None, 35, 200, 250, 12   0         \n",
            "                             8)                                  \n",
            "                                                                 \n",
            " max_pooling3d (MaxPooling3  (None, 35, 100, 125, 12   0         \n",
            " D)                          8)                                  \n",
            "                                                                 \n",
            " conv3d_1 (Conv3D)           (None, 35, 100, 125, 25   884992    \n",
            "                             6)                                  \n",
            "                                                                 \n",
            " activation_1 (Activation)   (None, 35, 100, 125, 25   0         \n",
            "                             6)                                  \n",
            "                                                                 \n",
            " max_pooling3d_1 (MaxPoolin  (None, 35, 50, 62, 256)   0         \n",
            " g3D)                                                            \n",
            "                                                                 \n",
            " conv3d_2 (Conv3D)           (None, 35, 50, 62, 35)    241955    \n",
            "                                                                 \n",
            " activation_2 (Activation)   (None, 35, 50, 62, 35)    0         \n",
            "                                                                 \n",
            " max_pooling3d_2 (MaxPoolin  (None, 35, 25, 31, 35)    0         \n",
            " g3D)                                                            \n",
            "                                                                 \n",
            " time_distributed (TimeDist  (None, 35, 27125)         0         \n",
            " ributed)                                                        \n",
            "                                                                 \n",
            " bidirectional (Bidirection  (None, 35, 256)           27908096  \n",
            " al)                                                             \n",
            "                                                                 \n",
            " dropout (Dropout)           (None, 35, 256)           0         \n",
            "                                                                 \n",
            " bidirectional_1 (Bidirecti  (None, 35, 256)           394240    \n",
            " onal)                                                           \n",
            "                                                                 \n",
            " dropout_1 (Dropout)         (None, 35, 256)           0         \n",
            "                                                                 \n",
            " dense (Dense)               (None, 35, 16)            4112      \n",
            "                                                                 \n",
            "=================================================================\n",
            "Total params: 29436979 (112.29 MB)\n",
            "Trainable params: 29436979 (112.29 MB)\n",
            "Non-trainable params: 0 (0.00 Byte)\n",
            "_________________________________________________________________\n"
          ]
        }
      ],
      "source": [
        "model.summary()"
      ]
    },
    {
      "cell_type": "code",
      "execution_count": 41,
      "id": "f4b4798c-a65a-4c47-9e2a-3b09dc98d320",
      "metadata": {
        "id": "f4b4798c-a65a-4c47-9e2a-3b09dc98d320",
        "colab": {
          "base_uri": "https://localhost:8080/"
        },
        "outputId": "a0bc47cd-cbb6-4425-c966-6584f64386c6"
      },
      "outputs": [
        {
          "output_type": "execute_result",
          "data": {
            "text/plain": [
              "6375"
            ]
          },
          "metadata": {},
          "execution_count": 41
        }
      ],
      "source": [
        "5*17*75"
      ]
    },
    {
      "cell_type": "code",
      "execution_count": 42,
      "id": "e5c2eae0-c359-41a4-97a0-75c44dccb7d1",
      "metadata": {
        "tags": [],
        "id": "e5c2eae0-c359-41a4-97a0-75c44dccb7d1",
        "outputId": "125a0bd3-7a77-4e46-d250-dcfdb990b4cf",
        "colab": {
          "base_uri": "https://localhost:8080/"
        }
      },
      "outputs": [
        {
          "output_type": "stream",
          "name": "stdout",
          "text": [
            "1/1 [==============================] - 12s 12s/step\n"
          ]
        }
      ],
      "source": [
        "yhat = model.predict(val[0])"
      ]
    },
    {
      "cell_type": "code",
      "source": [
        "yhat.shape"
      ],
      "metadata": {
        "colab": {
          "base_uri": "https://localhost:8080/"
        },
        "id": "EI2_qamOYwTo",
        "outputId": "b0733747-386a-4a9c-bc74-6457ec7efcb6"
      },
      "id": "EI2_qamOYwTo",
      "execution_count": 43,
      "outputs": [
        {
          "output_type": "execute_result",
          "data": {
            "text/plain": [
              "(2, 35, 16)"
            ]
          },
          "metadata": {},
          "execution_count": 43
        }
      ]
    },
    {
      "cell_type": "code",
      "source": [
        "# yhat[0]"
      ],
      "metadata": {
        "id": "R8xhtUESZwiP"
      },
      "id": "R8xhtUESZwiP",
      "execution_count": 44,
      "outputs": []
    },
    {
      "cell_type": "code",
      "source": [
        "tf.strings.reduce_join([num_to_char(x) for x in tf.argmax(yhat[0],axis=1)])"
      ],
      "metadata": {
        "colab": {
          "base_uri": "https://localhost:8080/"
        },
        "id": "eHP3RkKwBm72",
        "outputId": "94b5257d-c41b-4215-b53c-4ae7db655658"
      },
      "id": "eHP3RkKwBm72",
      "execution_count": 45,
      "outputs": [
        {
          "output_type": "execute_result",
          "data": {
            "text/plain": [
              "<tf.Tensor: shape=(), dtype=string, numpy=b'\\xe0\\xb6\\x85\\xe0\\xb6\\x85\\xe0\\xb6\\x85\\xe0\\xb6\\x85\\xe0\\xb6\\x85\\xe0\\xb6\\x85\\xe0\\xb6\\x85\\xe0\\xb6\\x85\\xe0\\xb6\\x85\\xe0\\xb6\\x85\\xe0\\xb6\\x85\\xe0\\xb6\\x85\\xe0\\xb6\\x85\\xe0\\xb6\\x85\\xe0\\xb6\\x85\\xe0\\xb6\\x85\\xe0\\xb6\\x85\\xe0\\xb6\\x85\\xe0\\xb6\\x85\\xe0\\xb6\\x85\\xe0\\xb6\\x85\\xe0\\xb6\\x85\\xe0\\xb6\\x85\\xe0\\xb6\\x85\\xe0\\xb6\\x85\\xe0\\xb6\\x85\\xe0\\xb6\\x85\\xe0\\xb6\\x85\\xe0\\xb6\\x85\\xe0\\xb6\\x85\\xe0\\xb6\\x85\\xe0\\xb6\\x85\\xe0\\xb6\\x85\\xe0\\xb6\\xad\\xe0\\xb7\\x94\\xe0\\xb6\\xad\\xe0\\xb7\\x94'>"
            ]
          },
          "metadata": {},
          "execution_count": 45
        }
      ]
    },
    {
      "cell_type": "code",
      "source": [
        "tf.strings.reduce_join([num_to_char(tf.argmax(x)) for x in yhat[0]])"
      ],
      "metadata": {
        "colab": {
          "base_uri": "https://localhost:8080/"
        },
        "id": "w-Cpnm9tBsfw",
        "outputId": "53e70b9f-49fb-4359-f6b2-04c79e7d114e"
      },
      "id": "w-Cpnm9tBsfw",
      "execution_count": 46,
      "outputs": [
        {
          "output_type": "execute_result",
          "data": {
            "text/plain": [
              "<tf.Tensor: shape=(), dtype=string, numpy=b'\\xe0\\xb6\\x85\\xe0\\xb6\\x85\\xe0\\xb6\\x85\\xe0\\xb6\\x85\\xe0\\xb6\\x85\\xe0\\xb6\\x85\\xe0\\xb6\\x85\\xe0\\xb6\\x85\\xe0\\xb6\\x85\\xe0\\xb6\\x85\\xe0\\xb6\\x85\\xe0\\xb6\\x85\\xe0\\xb6\\x85\\xe0\\xb6\\x85\\xe0\\xb6\\x85\\xe0\\xb6\\x85\\xe0\\xb6\\x85\\xe0\\xb6\\x85\\xe0\\xb6\\x85\\xe0\\xb6\\x85\\xe0\\xb6\\x85\\xe0\\xb6\\x85\\xe0\\xb6\\x85\\xe0\\xb6\\x85\\xe0\\xb6\\x85\\xe0\\xb6\\x85\\xe0\\xb6\\x85\\xe0\\xb6\\x85\\xe0\\xb6\\x85\\xe0\\xb6\\x85\\xe0\\xb6\\x85\\xe0\\xb6\\x85\\xe0\\xb6\\x85\\xe0\\xb6\\xad\\xe0\\xb7\\x94\\xe0\\xb6\\xad\\xe0\\xb7\\x94'>"
            ]
          },
          "metadata": {},
          "execution_count": 46
        }
      ]
    },
    {
      "cell_type": "code",
      "source": [
        "# b = tf.argmax(yhat[0],axis=1)\n",
        "# b"
      ],
      "metadata": {
        "id": "BDkc9lU9bQmE"
      },
      "id": "BDkc9lU9bQmE",
      "execution_count": 47,
      "outputs": []
    },
    {
      "cell_type": "code",
      "source": [
        "# tf.argmax(b)"
      ],
      "metadata": {
        "id": "XBmcBO6Obcnr"
      },
      "id": "XBmcBO6Obcnr",
      "execution_count": 48,
      "outputs": []
    },
    {
      "cell_type": "code",
      "source": [
        "# tf.strings.reduce_join([num_to_char(x) for x in tf.argmax(yhat[0],axis=1)])"
      ],
      "metadata": {
        "id": "su6Et_eF2val"
      },
      "id": "su6Et_eF2val",
      "execution_count": 49,
      "outputs": []
    },
    {
      "cell_type": "code",
      "source": [
        "# tf.strings.reduce_join([num_to_char(tf.argmax(x)) for x in yhat[0]])"
      ],
      "metadata": {
        "id": "i3skF2CS2zn6"
      },
      "id": "i3skF2CS2zn6",
      "execution_count": 50,
      "outputs": []
    },
    {
      "cell_type": "code",
      "source": [
        "# num_to_char(tf.argmax(yhat[0],axis=1))"
      ],
      "metadata": {
        "id": "Zv1kYxC5bK5i"
      },
      "id": "Zv1kYxC5bK5i",
      "execution_count": 51,
      "outputs": []
    },
    {
      "cell_type": "code",
      "execution_count": 52,
      "id": "ffdc7319-0d69-4f7e-a6d4-ce72deb81c0b",
      "metadata": {
        "id": "ffdc7319-0d69-4f7e-a6d4-ce72deb81c0b"
      },
      "outputs": [],
      "source": [
        "# tf.strings.reduce_join([num_to_char(tf.argmax(yhat[0],axis=1))])"
      ]
    },
    {
      "cell_type": "code",
      "execution_count": 53,
      "id": "6ed47531-8317-4255-9a12-b757642258e6",
      "metadata": {
        "tags": [],
        "id": "6ed47531-8317-4255-9a12-b757642258e6"
      },
      "outputs": [],
      "source": [
        "# tf.strings.reduce_join([num_to_char(tf.argmax(yhat[0]))])"
      ]
    },
    {
      "cell_type": "code",
      "execution_count": 54,
      "id": "7c37b9b9-5298-4038-9c33-5031d1b457f0",
      "metadata": {
        "tags": [],
        "id": "7c37b9b9-5298-4038-9c33-5031d1b457f0",
        "outputId": "7079d7de-e6a1-47fb-a1d7-dc27ddb2b242",
        "colab": {
          "base_uri": "https://localhost:8080/"
        }
      },
      "outputs": [
        {
          "output_type": "execute_result",
          "data": {
            "text/plain": [
              "(None, 35, 200, 250, 1)"
            ]
          },
          "metadata": {},
          "execution_count": 54
        }
      ],
      "source": [
        "model.input_shape"
      ]
    },
    {
      "cell_type": "code",
      "execution_count": 55,
      "id": "98b316a4-5322-4782-8e36-4b3c1a696d85",
      "metadata": {
        "tags": [],
        "id": "98b316a4-5322-4782-8e36-4b3c1a696d85",
        "outputId": "62e18639-c579-4320-c207-bbc7dc79a4f6",
        "colab": {
          "base_uri": "https://localhost:8080/"
        }
      },
      "outputs": [
        {
          "output_type": "execute_result",
          "data": {
            "text/plain": [
              "(None, 35, 16)"
            ]
          },
          "metadata": {},
          "execution_count": 55
        }
      ],
      "source": [
        "model.output_shape"
      ]
    },
    {
      "cell_type": "markdown",
      "id": "2ec02176-5c26-46c3-aff7-8352e6563c7d",
      "metadata": {
        "tags": [],
        "id": "2ec02176-5c26-46c3-aff7-8352e6563c7d"
      },
      "source": [
        "# 4. Setup Training Options and Train"
      ]
    },
    {
      "cell_type": "code",
      "execution_count": 56,
      "id": "ab015fd0-7fb4-4d5d-9fa2-30a05dbd515a",
      "metadata": {
        "tags": [],
        "id": "ab015fd0-7fb4-4d5d-9fa2-30a05dbd515a"
      },
      "outputs": [],
      "source": [
        "def scheduler(epoch, lr):\n",
        "    if epoch < 30:\n",
        "        return lr\n",
        "    else:\n",
        "        return lr * tf.math.exp(-0.1)"
      ]
    },
    {
      "cell_type": "code",
      "execution_count": 57,
      "id": "c564d5c9-db54-4e88-b311-9aeab7fb3e69",
      "metadata": {
        "tags": [],
        "id": "c564d5c9-db54-4e88-b311-9aeab7fb3e69"
      },
      "outputs": [],
      "source": [
        "def CTCLoss(y_true, y_pred):\n",
        "    # print(y_true, \"y_true\")\n",
        "    # print(y_pred, \"y_pred\")\n",
        "    batch_len = tf.cast(tf.shape(y_true)[0], dtype=\"int32\")\n",
        "    input_length = tf.cast(tf.shape(y_pred)[1], dtype=\"int32\")\n",
        "    label_length = tf.cast(tf.shape(y_true)[1], dtype=\"int32\")\n",
        "    # print(label_length, \"label_length\")\n",
        "\n",
        "    input_length = input_length * tf.ones(shape=(batch_len, 1), dtype=\"int32\")\n",
        "    label_length = label_length * tf.ones(shape=(batch_len, 1), dtype=\"int32\")\n",
        "\n",
        "    loss = tf.keras.backend.ctc_batch_cost(y_true, y_pred, input_length, label_length)\n",
        "    return loss"
      ]
    },
    {
      "cell_type": "code",
      "execution_count": 58,
      "id": "a26dc3fc-a19c-4378-bd8c-e2b597a1d15c",
      "metadata": {
        "tags": [],
        "id": "a26dc3fc-a19c-4378-bd8c-e2b597a1d15c"
      },
      "outputs": [],
      "source": [
        "class ProduceExample(tf.keras.callbacks.Callback):\n",
        "    def __init__(self, dataset) -> None:\n",
        "        self.dataset = dataset.as_numpy_iterator()\n",
        "\n",
        "    def on_epoch_end(self, epoch, logs=None) -> None:\n",
        "        # data = self.dataset.next()\n",
        "\n",
        "        try:\n",
        "            data = self.dataset.next()\n",
        "        except StopIteration:  # Handle the end of the iterator\n",
        "            self.dataset = self.dataset.repeat()\n",
        "            self.dataset = self.dataset.as_numpy_iterator()  # Re-initialize the iterator\n",
        "            data = self.dataset.next()\n",
        "\n",
        "        yhat = self.model.predict(data[0])\n",
        "        # print(data[1][:], \"data\")\n",
        "        # print(yhat, \"yhat_on_epoch_end\")\n",
        "        decoded = tf.keras.backend.ctc_decode(yhat, [35,35], greedy=False)[0][0].numpy()\n",
        "        for x in range(len(yhat)):\n",
        "            print('Original:', tf.strings.reduce_join(num_to_char(data[1][x])).numpy().decode('utf-8'))\n",
        "            print('Prediction:', tf.strings.reduce_join(num_to_char(decoded[x])).numpy().decode('utf-8'))\n",
        "            print('~'*100)"
      ]
    },
    {
      "cell_type": "code",
      "execution_count": 59,
      "id": "04be90d8-2482-46f9-b513-d5f4f8001c7e",
      "metadata": {
        "tags": [],
        "id": "04be90d8-2482-46f9-b513-d5f4f8001c7e"
      },
      "outputs": [],
      "source": [
        "model.compile(optimizer=Adam(learning_rate=0.0001, clipvalue=0.5), loss=CTCLoss)\n",
        "# model.compile(optimizer='adam', loss='categorical_crossentropy', metrics=['accuracy'])\n",
        "# model.compile(optimizer=Adam(learning_rate=0.0001), loss='categorical_crossentropy')"
      ]
    },
    {
      "cell_type": "code",
      "execution_count": 60,
      "id": "eab49367-3f1e-4464-ae76-dbd07549d97e",
      "metadata": {
        "tags": [],
        "id": "eab49367-3f1e-4464-ae76-dbd07549d97e"
      },
      "outputs": [],
      "source": [
        "checkpoint_callback = ModelCheckpoint(os.path.join('models','checkpoint'), monitor='loss', save_weights_only=True)"
      ]
    },
    {
      "cell_type": "code",
      "execution_count": 61,
      "id": "e085a632-d464-46ef-8777-959cad4adb2c",
      "metadata": {
        "tags": [],
        "id": "e085a632-d464-46ef-8777-959cad4adb2c"
      },
      "outputs": [],
      "source": [
        "schedule_callback = LearningRateScheduler(scheduler)"
      ]
    },
    {
      "cell_type": "code",
      "execution_count": 62,
      "id": "48eca991-90ab-4592-8a79-b50e9ca015b6",
      "metadata": {
        "tags": [],
        "id": "48eca991-90ab-4592-8a79-b50e9ca015b6"
      },
      "outputs": [],
      "source": [
        "example_callback = ProduceExample(test)"
      ]
    },
    {
      "cell_type": "code",
      "source": [
        "tf.debugging.disable_traceback_filtering()"
      ],
      "metadata": {
        "id": "bXZkd9Sr_NIF"
      },
      "id": "bXZkd9Sr_NIF",
      "execution_count": 63,
      "outputs": []
    },
    {
      "cell_type": "code",
      "execution_count": null,
      "id": "8ffba483-aa61-4bbe-a15f-a73e1ddf097c",
      "metadata": {
        "tags": [],
        "id": "8ffba483-aa61-4bbe-a15f-a73e1ddf097c",
        "outputId": "b7913a5a-3075-4db7-a69a-8685f21c3133",
        "colab": {
          "base_uri": "https://localhost:8080/"
        }
      },
      "outputs": [
        {
          "output_type": "stream",
          "name": "stdout",
          "text": [
            "Epoch 1/100\n",
            "1/1 [==============================] - 4s 4s/step\n",
            "Original: හත\n",
            "Prediction: \n",
            "~~~~~~~~~~~~~~~~~~~~~~~~~~~~~~~~~~~~~~~~~~~~~~~~~~~~~~~~~~~~~~~~~~~~~~~~~~~~~~~~~~~~~~~~~~~~~~~~~~~~\n",
            "Original: හතර\n",
            "Prediction: \n",
            "~~~~~~~~~~~~~~~~~~~~~~~~~~~~~~~~~~~~~~~~~~~~~~~~~~~~~~~~~~~~~~~~~~~~~~~~~~~~~~~~~~~~~~~~~~~~~~~~~~~~\n",
            "35/35 [==============================] - 210s 5s/step - loss: 18.0511 - val_loss: 14.0184 - lr: 1.0000e-04\n",
            "Epoch 2/100\n",
            "1/1 [==============================] - 1s 633ms/step\n",
            "Original: හත\n",
            "Prediction: \n",
            "~~~~~~~~~~~~~~~~~~~~~~~~~~~~~~~~~~~~~~~~~~~~~~~~~~~~~~~~~~~~~~~~~~~~~~~~~~~~~~~~~~~~~~~~~~~~~~~~~~~~\n",
            "Original: පහ\n",
            "Prediction: \n",
            "~~~~~~~~~~~~~~~~~~~~~~~~~~~~~~~~~~~~~~~~~~~~~~~~~~~~~~~~~~~~~~~~~~~~~~~~~~~~~~~~~~~~~~~~~~~~~~~~~~~~\n",
            "35/35 [==============================] - 152s 4s/step - loss: 13.6772 - val_loss: 12.4430 - lr: 1.0000e-04\n",
            "Epoch 3/100\n",
            "1/1 [==============================] - 1s 679ms/step\n",
            "Original: එක\n",
            "Prediction: \n",
            "~~~~~~~~~~~~~~~~~~~~~~~~~~~~~~~~~~~~~~~~~~~~~~~~~~~~~~~~~~~~~~~~~~~~~~~~~~~~~~~~~~~~~~~~~~~~~~~~~~~~\n",
            "Original: තන\n",
            "Prediction: \n",
            "~~~~~~~~~~~~~~~~~~~~~~~~~~~~~~~~~~~~~~~~~~~~~~~~~~~~~~~~~~~~~~~~~~~~~~~~~~~~~~~~~~~~~~~~~~~~~~~~~~~~\n",
            "35/35 [==============================] - 150s 4s/step - loss: 12.2379 - val_loss: 11.7201 - lr: 1.0000e-04\n",
            "Epoch 4/100\n",
            "1/1 [==============================] - 1s 661ms/step\n",
            "Original: හත\n",
            "Prediction: \n",
            "~~~~~~~~~~~~~~~~~~~~~~~~~~~~~~~~~~~~~~~~~~~~~~~~~~~~~~~~~~~~~~~~~~~~~~~~~~~~~~~~~~~~~~~~~~~~~~~~~~~~\n",
            "Original: දක\n",
            "Prediction: \n",
            "~~~~~~~~~~~~~~~~~~~~~~~~~~~~~~~~~~~~~~~~~~~~~~~~~~~~~~~~~~~~~~~~~~~~~~~~~~~~~~~~~~~~~~~~~~~~~~~~~~~~\n",
            "35/35 [==============================] - 153s 4s/step - loss: 11.7611 - val_loss: 11.1656 - lr: 1.0000e-04\n",
            "Epoch 5/100\n",
            "1/1 [==============================] - 1s 636ms/step\n",
            "Original: තන\n",
            "Prediction: \n",
            "~~~~~~~~~~~~~~~~~~~~~~~~~~~~~~~~~~~~~~~~~~~~~~~~~~~~~~~~~~~~~~~~~~~~~~~~~~~~~~~~~~~~~~~~~~~~~~~~~~~~\n",
            "Original: පහ\n",
            "Prediction: \n",
            "~~~~~~~~~~~~~~~~~~~~~~~~~~~~~~~~~~~~~~~~~~~~~~~~~~~~~~~~~~~~~~~~~~~~~~~~~~~~~~~~~~~~~~~~~~~~~~~~~~~~\n",
            "35/35 [==============================] - 153s 4s/step - loss: 11.3777 - val_loss: 10.5501 - lr: 1.0000e-04\n",
            "Epoch 6/100\n",
            "1/1 [==============================] - 1s 700ms/step\n",
            "Original: අට\n",
            "Prediction: \n",
            "~~~~~~~~~~~~~~~~~~~~~~~~~~~~~~~~~~~~~~~~~~~~~~~~~~~~~~~~~~~~~~~~~~~~~~~~~~~~~~~~~~~~~~~~~~~~~~~~~~~~\n",
            "Original: හතර\n",
            "Prediction: \n",
            "~~~~~~~~~~~~~~~~~~~~~~~~~~~~~~~~~~~~~~~~~~~~~~~~~~~~~~~~~~~~~~~~~~~~~~~~~~~~~~~~~~~~~~~~~~~~~~~~~~~~\n",
            "35/35 [==============================] - 153s 4s/step - loss: 10.8752 - val_loss: 10.3253 - lr: 1.0000e-04\n",
            "Epoch 7/100\n",
            "1/1 [==============================] - 1s 617ms/step\n",
            "Original: එක\n",
            "Prediction: \n",
            "~~~~~~~~~~~~~~~~~~~~~~~~~~~~~~~~~~~~~~~~~~~~~~~~~~~~~~~~~~~~~~~~~~~~~~~~~~~~~~~~~~~~~~~~~~~~~~~~~~~~\n",
            "Original: දහය\n",
            "Prediction: \n",
            "~~~~~~~~~~~~~~~~~~~~~~~~~~~~~~~~~~~~~~~~~~~~~~~~~~~~~~~~~~~~~~~~~~~~~~~~~~~~~~~~~~~~~~~~~~~~~~~~~~~~\n",
            "35/35 [==============================] - 154s 4s/step - loss: 10.6300 - val_loss: 10.0054 - lr: 1.0000e-04\n",
            "Epoch 8/100\n",
            "1/1 [==============================] - 1s 701ms/step\n",
            "Original: හය\n",
            "Prediction: \n",
            "~~~~~~~~~~~~~~~~~~~~~~~~~~~~~~~~~~~~~~~~~~~~~~~~~~~~~~~~~~~~~~~~~~~~~~~~~~~~~~~~~~~~~~~~~~~~~~~~~~~~\n",
            "Original: දහය\n",
            "Prediction: \n",
            "~~~~~~~~~~~~~~~~~~~~~~~~~~~~~~~~~~~~~~~~~~~~~~~~~~~~~~~~~~~~~~~~~~~~~~~~~~~~~~~~~~~~~~~~~~~~~~~~~~~~\n",
            "35/35 [==============================] - 152s 4s/step - loss: 10.4242 - val_loss: 9.7814 - lr: 1.0000e-04\n",
            "Epoch 9/100\n",
            "1/1 [==============================] - 1s 621ms/step\n",
            "Original: හත\n",
            "Prediction: හ\n",
            "~~~~~~~~~~~~~~~~~~~~~~~~~~~~~~~~~~~~~~~~~~~~~~~~~~~~~~~~~~~~~~~~~~~~~~~~~~~~~~~~~~~~~~~~~~~~~~~~~~~~\n",
            "Original: නමය\n",
            "Prediction: හ\n",
            "~~~~~~~~~~~~~~~~~~~~~~~~~~~~~~~~~~~~~~~~~~~~~~~~~~~~~~~~~~~~~~~~~~~~~~~~~~~~~~~~~~~~~~~~~~~~~~~~~~~~\n",
            "35/35 [==============================] - 147s 4s/step - loss: 10.2220 - val_loss: 9.4312 - lr: 1.0000e-04\n",
            "Epoch 10/100\n",
            "1/1 [==============================] - 1s 673ms/step\n",
            "Original: දක\n",
            "Prediction: හ\n",
            "~~~~~~~~~~~~~~~~~~~~~~~~~~~~~~~~~~~~~~~~~~~~~~~~~~~~~~~~~~~~~~~~~~~~~~~~~~~~~~~~~~~~~~~~~~~~~~~~~~~~\n",
            "Original: තන\n",
            "Prediction: හ\n",
            "~~~~~~~~~~~~~~~~~~~~~~~~~~~~~~~~~~~~~~~~~~~~~~~~~~~~~~~~~~~~~~~~~~~~~~~~~~~~~~~~~~~~~~~~~~~~~~~~~~~~\n",
            "35/35 [==============================] - 154s 4s/step - loss: 9.8954 - val_loss: 9.3567 - lr: 1.0000e-04\n",
            "Epoch 11/100\n",
            "1/1 [==============================] - 1s 668ms/step\n",
            "Original: දක\n",
            "Prediction: හ\n",
            "~~~~~~~~~~~~~~~~~~~~~~~~~~~~~~~~~~~~~~~~~~~~~~~~~~~~~~~~~~~~~~~~~~~~~~~~~~~~~~~~~~~~~~~~~~~~~~~~~~~~\n",
            "Original: තන\n",
            "Prediction: හ\n",
            "~~~~~~~~~~~~~~~~~~~~~~~~~~~~~~~~~~~~~~~~~~~~~~~~~~~~~~~~~~~~~~~~~~~~~~~~~~~~~~~~~~~~~~~~~~~~~~~~~~~~\n",
            "35/35 [==============================] - 153s 4s/step - loss: 9.8348 - val_loss: 8.9726 - lr: 1.0000e-04\n",
            "Epoch 12/100\n",
            "1/1 [==============================] - 1s 650ms/step\n",
            "Original: පහ\n",
            "Prediction: හ\n",
            "~~~~~~~~~~~~~~~~~~~~~~~~~~~~~~~~~~~~~~~~~~~~~~~~~~~~~~~~~~~~~~~~~~~~~~~~~~~~~~~~~~~~~~~~~~~~~~~~~~~~\n",
            "Original: දක\n",
            "Prediction: හ\n",
            "~~~~~~~~~~~~~~~~~~~~~~~~~~~~~~~~~~~~~~~~~~~~~~~~~~~~~~~~~~~~~~~~~~~~~~~~~~~~~~~~~~~~~~~~~~~~~~~~~~~~\n",
            "35/35 [==============================] - 152s 4s/step - loss: 9.6145 - val_loss: 8.6499 - lr: 1.0000e-04\n",
            "Epoch 13/100\n",
            "1/1 [==============================] - 1s 657ms/step\n",
            "Original: පහ\n",
            "Prediction: හ\n",
            "~~~~~~~~~~~~~~~~~~~~~~~~~~~~~~~~~~~~~~~~~~~~~~~~~~~~~~~~~~~~~~~~~~~~~~~~~~~~~~~~~~~~~~~~~~~~~~~~~~~~\n",
            "Original: හත\n",
            "Prediction: හ\n",
            "~~~~~~~~~~~~~~~~~~~~~~~~~~~~~~~~~~~~~~~~~~~~~~~~~~~~~~~~~~~~~~~~~~~~~~~~~~~~~~~~~~~~~~~~~~~~~~~~~~~~\n",
            "35/35 [==============================] - 152s 4s/step - loss: 9.3341 - val_loss: 8.5071 - lr: 1.0000e-04\n",
            "Epoch 14/100\n",
            "1/1 [==============================] - 1s 614ms/step\n",
            "Original: හතර\n",
            "Prediction: හ\n",
            "~~~~~~~~~~~~~~~~~~~~~~~~~~~~~~~~~~~~~~~~~~~~~~~~~~~~~~~~~~~~~~~~~~~~~~~~~~~~~~~~~~~~~~~~~~~~~~~~~~~~\n",
            "Original: අට\n",
            "Prediction: හ\n",
            "~~~~~~~~~~~~~~~~~~~~~~~~~~~~~~~~~~~~~~~~~~~~~~~~~~~~~~~~~~~~~~~~~~~~~~~~~~~~~~~~~~~~~~~~~~~~~~~~~~~~\n",
            "35/35 [==============================] - 148s 4s/step - loss: 9.0924 - val_loss: 8.2010 - lr: 1.0000e-04\n",
            "Epoch 15/100\n",
            "1/1 [==============================] - 1s 599ms/step\n",
            "Original: හය\n",
            "Prediction: හ\n",
            "~~~~~~~~~~~~~~~~~~~~~~~~~~~~~~~~~~~~~~~~~~~~~~~~~~~~~~~~~~~~~~~~~~~~~~~~~~~~~~~~~~~~~~~~~~~~~~~~~~~~\n",
            "Original: පහ\n",
            "Prediction: හ\n",
            "~~~~~~~~~~~~~~~~~~~~~~~~~~~~~~~~~~~~~~~~~~~~~~~~~~~~~~~~~~~~~~~~~~~~~~~~~~~~~~~~~~~~~~~~~~~~~~~~~~~~\n",
            "35/35 [==============================] - 148s 4s/step - loss: 8.7554 - val_loss: 7.9442 - lr: 1.0000e-04\n",
            "Epoch 16/100\n",
            "1/1 [==============================] - 1s 605ms/step\n",
            "Original: දහය\n",
            "Prediction: හ\n",
            "~~~~~~~~~~~~~~~~~~~~~~~~~~~~~~~~~~~~~~~~~~~~~~~~~~~~~~~~~~~~~~~~~~~~~~~~~~~~~~~~~~~~~~~~~~~~~~~~~~~~\n",
            "Original: හතර\n",
            "Prediction: හ\n",
            "~~~~~~~~~~~~~~~~~~~~~~~~~~~~~~~~~~~~~~~~~~~~~~~~~~~~~~~~~~~~~~~~~~~~~~~~~~~~~~~~~~~~~~~~~~~~~~~~~~~~\n",
            "35/35 [==============================] - 148s 4s/step - loss: 8.3393 - val_loss: 7.5244 - lr: 1.0000e-04\n",
            "Epoch 17/100\n",
            "1/1 [==============================] - 1s 610ms/step\n",
            "Original: හත\n",
            "Prediction: හ\n",
            "~~~~~~~~~~~~~~~~~~~~~~~~~~~~~~~~~~~~~~~~~~~~~~~~~~~~~~~~~~~~~~~~~~~~~~~~~~~~~~~~~~~~~~~~~~~~~~~~~~~~\n",
            "Original: නමය\n",
            "Prediction: හය\n",
            "~~~~~~~~~~~~~~~~~~~~~~~~~~~~~~~~~~~~~~~~~~~~~~~~~~~~~~~~~~~~~~~~~~~~~~~~~~~~~~~~~~~~~~~~~~~~~~~~~~~~\n",
            "35/35 [==============================] - 158s 5s/step - loss: 8.1997 - val_loss: 7.6257 - lr: 1.0000e-04\n",
            "Epoch 18/100\n",
            "1/1 [==============================] - 1s 632ms/step\n",
            "Original: එක\n",
            "Prediction: හ\n",
            "~~~~~~~~~~~~~~~~~~~~~~~~~~~~~~~~~~~~~~~~~~~~~~~~~~~~~~~~~~~~~~~~~~~~~~~~~~~~~~~~~~~~~~~~~~~~~~~~~~~~\n",
            "Original: තන\n",
            "Prediction: ත\n",
            "~~~~~~~~~~~~~~~~~~~~~~~~~~~~~~~~~~~~~~~~~~~~~~~~~~~~~~~~~~~~~~~~~~~~~~~~~~~~~~~~~~~~~~~~~~~~~~~~~~~~\n",
            "35/35 [==============================] - 155s 4s/step - loss: 7.8202 - val_loss: 7.1756 - lr: 1.0000e-04\n",
            "Epoch 19/100\n",
            "1/1 [==============================] - 1s 708ms/step\n",
            "Original: දක\n",
            "Prediction: හ\n",
            "~~~~~~~~~~~~~~~~~~~~~~~~~~~~~~~~~~~~~~~~~~~~~~~~~~~~~~~~~~~~~~~~~~~~~~~~~~~~~~~~~~~~~~~~~~~~~~~~~~~~\n",
            "Original: පහ\n",
            "Prediction: හ\n",
            "~~~~~~~~~~~~~~~~~~~~~~~~~~~~~~~~~~~~~~~~~~~~~~~~~~~~~~~~~~~~~~~~~~~~~~~~~~~~~~~~~~~~~~~~~~~~~~~~~~~~\n",
            "35/35 [==============================] - 153s 4s/step - loss: 7.7805 - val_loss: 6.8482 - lr: 1.0000e-04\n",
            "Epoch 20/100\n",
            "1/1 [==============================] - 1s 666ms/step\n",
            "Original: එක\n",
            "Prediction: හක\n",
            "~~~~~~~~~~~~~~~~~~~~~~~~~~~~~~~~~~~~~~~~~~~~~~~~~~~~~~~~~~~~~~~~~~~~~~~~~~~~~~~~~~~~~~~~~~~~~~~~~~~~\n",
            "Original: හත\n",
            "Prediction: හත\n",
            "~~~~~~~~~~~~~~~~~~~~~~~~~~~~~~~~~~~~~~~~~~~~~~~~~~~~~~~~~~~~~~~~~~~~~~~~~~~~~~~~~~~~~~~~~~~~~~~~~~~~\n",
            "35/35 [==============================] - 150s 4s/step - loss: 7.4882 - val_loss: 6.7066 - lr: 1.0000e-04\n",
            "Epoch 21/100\n",
            "1/1 [==============================] - 1s 748ms/step\n",
            "Original: හය\n",
            "Prediction: හ\n",
            "~~~~~~~~~~~~~~~~~~~~~~~~~~~~~~~~~~~~~~~~~~~~~~~~~~~~~~~~~~~~~~~~~~~~~~~~~~~~~~~~~~~~~~~~~~~~~~~~~~~~\n",
            "Original: හත\n",
            "Prediction: හ\n",
            "~~~~~~~~~~~~~~~~~~~~~~~~~~~~~~~~~~~~~~~~~~~~~~~~~~~~~~~~~~~~~~~~~~~~~~~~~~~~~~~~~~~~~~~~~~~~~~~~~~~~\n",
            "35/35 [==============================] - 151s 4s/step - loss: 7.1711 - val_loss: 6.2623 - lr: 1.0000e-04\n",
            "Epoch 22/100\n",
            "1/1 [==============================] - 1s 746ms/step\n",
            "Original: එක\n",
            "Prediction: එක\n",
            "~~~~~~~~~~~~~~~~~~~~~~~~~~~~~~~~~~~~~~~~~~~~~~~~~~~~~~~~~~~~~~~~~~~~~~~~~~~~~~~~~~~~~~~~~~~~~~~~~~~~\n",
            "Original: එක\n",
            "Prediction: එක\n",
            "~~~~~~~~~~~~~~~~~~~~~~~~~~~~~~~~~~~~~~~~~~~~~~~~~~~~~~~~~~~~~~~~~~~~~~~~~~~~~~~~~~~~~~~~~~~~~~~~~~~~\n",
            "35/35 [==============================] - 153s 4s/step - loss: 7.2204 - val_loss: 6.2361 - lr: 1.0000e-04\n",
            "Epoch 23/100\n",
            "1/1 [==============================] - 1s 682ms/step\n",
            "Original: හත\n",
            "Prediction: හත\n",
            "~~~~~~~~~~~~~~~~~~~~~~~~~~~~~~~~~~~~~~~~~~~~~~~~~~~~~~~~~~~~~~~~~~~~~~~~~~~~~~~~~~~~~~~~~~~~~~~~~~~~\n",
            "Original: තන\n",
            "Prediction: ත\n",
            "~~~~~~~~~~~~~~~~~~~~~~~~~~~~~~~~~~~~~~~~~~~~~~~~~~~~~~~~~~~~~~~~~~~~~~~~~~~~~~~~~~~~~~~~~~~~~~~~~~~~\n",
            "35/35 [==============================] - 152s 4s/step - loss: 6.7521 - val_loss: 6.0015 - lr: 1.0000e-04\n",
            "Epoch 24/100\n",
            "1/1 [==============================] - 1s 659ms/step\n",
            "Original: හතර\n",
            "Prediction: හත\n",
            "~~~~~~~~~~~~~~~~~~~~~~~~~~~~~~~~~~~~~~~~~~~~~~~~~~~~~~~~~~~~~~~~~~~~~~~~~~~~~~~~~~~~~~~~~~~~~~~~~~~~\n",
            "Original: තන\n",
            "Prediction: ත\n",
            "~~~~~~~~~~~~~~~~~~~~~~~~~~~~~~~~~~~~~~~~~~~~~~~~~~~~~~~~~~~~~~~~~~~~~~~~~~~~~~~~~~~~~~~~~~~~~~~~~~~~\n",
            "35/35 [==============================] - 150s 4s/step - loss: 6.7422 - val_loss: 5.7435 - lr: 1.0000e-04\n",
            "Epoch 25/100\n",
            "1/1 [==============================] - 1s 663ms/step\n",
            "Original: එක\n",
            "Prediction: එක\n",
            "~~~~~~~~~~~~~~~~~~~~~~~~~~~~~~~~~~~~~~~~~~~~~~~~~~~~~~~~~~~~~~~~~~~~~~~~~~~~~~~~~~~~~~~~~~~~~~~~~~~~\n",
            "Original: අට\n",
            "Prediction: හට\n",
            "~~~~~~~~~~~~~~~~~~~~~~~~~~~~~~~~~~~~~~~~~~~~~~~~~~~~~~~~~~~~~~~~~~~~~~~~~~~~~~~~~~~~~~~~~~~~~~~~~~~~\n",
            "35/35 [==============================] - 173s 5s/step - loss: 6.3796 - val_loss: 5.4654 - lr: 1.0000e-04\n",
            "Epoch 26/100\n",
            "1/1 [==============================] - 1s 609ms/step\n",
            "Original: තන\n",
            "Prediction: තන\n",
            "~~~~~~~~~~~~~~~~~~~~~~~~~~~~~~~~~~~~~~~~~~~~~~~~~~~~~~~~~~~~~~~~~~~~~~~~~~~~~~~~~~~~~~~~~~~~~~~~~~~~\n",
            "Original: දහය\n",
            "Prediction: හහය\n",
            "~~~~~~~~~~~~~~~~~~~~~~~~~~~~~~~~~~~~~~~~~~~~~~~~~~~~~~~~~~~~~~~~~~~~~~~~~~~~~~~~~~~~~~~~~~~~~~~~~~~~\n",
            "35/35 [==============================] - 146s 4s/step - loss: 6.2822 - val_loss: 5.3948 - lr: 1.0000e-04\n",
            "Epoch 27/100\n",
            "1/1 [==============================] - 1s 606ms/step\n",
            "Original: එක\n",
            "Prediction: එක\n",
            "~~~~~~~~~~~~~~~~~~~~~~~~~~~~~~~~~~~~~~~~~~~~~~~~~~~~~~~~~~~~~~~~~~~~~~~~~~~~~~~~~~~~~~~~~~~~~~~~~~~~\n",
            "Original: නමය\n",
            "Prediction: හමය\n",
            "~~~~~~~~~~~~~~~~~~~~~~~~~~~~~~~~~~~~~~~~~~~~~~~~~~~~~~~~~~~~~~~~~~~~~~~~~~~~~~~~~~~~~~~~~~~~~~~~~~~~\n",
            "35/35 [==============================] - 145s 4s/step - loss: 5.9947 - val_loss: 5.1241 - lr: 1.0000e-04\n",
            "Epoch 28/100\n",
            "1/1 [==============================] - 1s 618ms/step\n",
            "Original: අට\n",
            "Prediction: හට\n",
            "~~~~~~~~~~~~~~~~~~~~~~~~~~~~~~~~~~~~~~~~~~~~~~~~~~~~~~~~~~~~~~~~~~~~~~~~~~~~~~~~~~~~~~~~~~~~~~~~~~~~\n",
            "Original: හතර\n",
            "Prediction: හත\n",
            "~~~~~~~~~~~~~~~~~~~~~~~~~~~~~~~~~~~~~~~~~~~~~~~~~~~~~~~~~~~~~~~~~~~~~~~~~~~~~~~~~~~~~~~~~~~~~~~~~~~~\n",
            "35/35 [==============================] - 151s 4s/step - loss: 5.8763 - val_loss: 4.9802 - lr: 1.0000e-04\n",
            "Epoch 29/100\n",
            "1/1 [==============================] - 1s 666ms/step\n",
            "Original: නමය\n",
            "Prediction: හය\n",
            "~~~~~~~~~~~~~~~~~~~~~~~~~~~~~~~~~~~~~~~~~~~~~~~~~~~~~~~~~~~~~~~~~~~~~~~~~~~~~~~~~~~~~~~~~~~~~~~~~~~~\n",
            "Original: පහ\n",
            "Prediction: හහ\n",
            "~~~~~~~~~~~~~~~~~~~~~~~~~~~~~~~~~~~~~~~~~~~~~~~~~~~~~~~~~~~~~~~~~~~~~~~~~~~~~~~~~~~~~~~~~~~~~~~~~~~~\n",
            "35/35 [==============================] - 151s 4s/step - loss: 5.6838 - val_loss: 4.7461 - lr: 1.0000e-04\n",
            "Epoch 30/100\n",
            "1/1 [==============================] - 1s 671ms/step\n",
            "Original: හතර\n",
            "Prediction: හතර\n",
            "~~~~~~~~~~~~~~~~~~~~~~~~~~~~~~~~~~~~~~~~~~~~~~~~~~~~~~~~~~~~~~~~~~~~~~~~~~~~~~~~~~~~~~~~~~~~~~~~~~~~\n",
            "Original: නමය\n",
            "Prediction: හම\n",
            "~~~~~~~~~~~~~~~~~~~~~~~~~~~~~~~~~~~~~~~~~~~~~~~~~~~~~~~~~~~~~~~~~~~~~~~~~~~~~~~~~~~~~~~~~~~~~~~~~~~~\n",
            "35/35 [==============================] - 151s 4s/step - loss: 5.4742 - val_loss: 4.4562 - lr: 1.0000e-04\n",
            "Epoch 31/100\n",
            "1/1 [==============================] - 1s 628ms/step\n",
            "Original: දහය\n",
            "Prediction: දහය\n",
            "~~~~~~~~~~~~~~~~~~~~~~~~~~~~~~~~~~~~~~~~~~~~~~~~~~~~~~~~~~~~~~~~~~~~~~~~~~~~~~~~~~~~~~~~~~~~~~~~~~~~\n",
            "Original: දහය\n",
            "Prediction: දහය\n",
            "~~~~~~~~~~~~~~~~~~~~~~~~~~~~~~~~~~~~~~~~~~~~~~~~~~~~~~~~~~~~~~~~~~~~~~~~~~~~~~~~~~~~~~~~~~~~~~~~~~~~\n",
            "35/35 [==============================] - 151s 4s/step - loss: 5.2123 - val_loss: 4.2966 - lr: 9.0484e-05\n",
            "Epoch 32/100\n",
            "1/1 [==============================] - 1s 644ms/step\n",
            "Original: නමය\n",
            "Prediction: නමය\n",
            "~~~~~~~~~~~~~~~~~~~~~~~~~~~~~~~~~~~~~~~~~~~~~~~~~~~~~~~~~~~~~~~~~~~~~~~~~~~~~~~~~~~~~~~~~~~~~~~~~~~~\n",
            "Original: හය\n",
            "Prediction: හය\n",
            "~~~~~~~~~~~~~~~~~~~~~~~~~~~~~~~~~~~~~~~~~~~~~~~~~~~~~~~~~~~~~~~~~~~~~~~~~~~~~~~~~~~~~~~~~~~~~~~~~~~~\n",
            "35/35 [==============================] - 152s 4s/step - loss: 5.2228 - val_loss: 4.1865 - lr: 8.1873e-05\n",
            "Epoch 33/100\n",
            "17/35 [=============>................] - ETA: 46s - loss: 4.9409"
          ]
        }
      ],
      "source": [
        "model.fit(train, validation_data=test, epochs=100, callbacks=[checkpoint_callback, schedule_callback, example_callback])\n",
        "# model.fit(train, validation_data=test, epochs=100)"
      ]
    },
    {
      "cell_type": "markdown",
      "id": "fa8ee94b-89f7-4733-8a0c-a86f86ff590a",
      "metadata": {
        "tags": [],
        "id": "fa8ee94b-89f7-4733-8a0c-a86f86ff590a"
      },
      "source": [
        "# 5. Make a Prediction"
      ]
    },
    {
      "cell_type": "code",
      "execution_count": null,
      "id": "01fa7204-ce0e-49a8-8dbd-14fe5dfead40",
      "metadata": {
        "tags": [],
        "id": "01fa7204-ce0e-49a8-8dbd-14fe5dfead40"
      },
      "outputs": [],
      "source": [
        "# url = 'https://drive.google.com/uc?id=1vWscXs4Vt0a_1IH1-ct2TCgXAZT-N3_Y'\n",
        "# output = 'checkpoints.zip'\n",
        "# gdown.download(url, output, quiet=False)\n",
        "# gdown.extractall('checkpoints.zip', 'models')"
      ]
    },
    {
      "cell_type": "code",
      "execution_count": null,
      "id": "247f664d-3c87-4e96-946e-930dad0e1c2c",
      "metadata": {
        "tags": [],
        "id": "247f664d-3c87-4e96-946e-930dad0e1c2c"
      },
      "outputs": [],
      "source": [
        "# model.load_weights('models/checkpoint')"
      ]
    },
    {
      "cell_type": "code",
      "execution_count": null,
      "id": "7f8d689f-b7bb-443c-9b88-e40c1d800828",
      "metadata": {
        "tags": [],
        "id": "7f8d689f-b7bb-443c-9b88-e40c1d800828"
      },
      "outputs": [],
      "source": [
        "# test_data = test.as_numpy_iterator()"
      ]
    },
    {
      "cell_type": "code",
      "execution_count": null,
      "id": "38546dc2-bee9-4837-864b-8a884df40ad7",
      "metadata": {
        "tags": [],
        "id": "38546dc2-bee9-4837-864b-8a884df40ad7"
      },
      "outputs": [],
      "source": [
        "# sample = test_data.next()"
      ]
    },
    {
      "cell_type": "code",
      "execution_count": null,
      "id": "a43621f0-229d-4c0d-9554-9c3a3da9c61a",
      "metadata": {
        "tags": [],
        "id": "a43621f0-229d-4c0d-9554-9c3a3da9c61a"
      },
      "outputs": [],
      "source": [
        "# yhat = model.predict(sample[0])"
      ]
    },
    {
      "cell_type": "code",
      "execution_count": null,
      "id": "ea462999-f87e-4a7e-a057-5be7b6d8f7d5",
      "metadata": {
        "tags": [],
        "id": "ea462999-f87e-4a7e-a057-5be7b6d8f7d5"
      },
      "outputs": [],
      "source": [
        "# print('~'*100, 'REAL TEXT')\n",
        "# [tf.strings.reduce_join([num_to_char(word) for word in sentence]) for sentence in sample[1]]"
      ]
    },
    {
      "cell_type": "code",
      "execution_count": null,
      "id": "82bd4c10-dd6e-411e-834b-2a3b43fd12c5",
      "metadata": {
        "tags": [],
        "id": "82bd4c10-dd6e-411e-834b-2a3b43fd12c5"
      },
      "outputs": [],
      "source": [
        "# decoded = tf.keras.backend.ctc_decode(yhat, input_length=[75,75], greedy=True)[0][0].numpy()"
      ]
    },
    {
      "cell_type": "code",
      "execution_count": null,
      "id": "5d68ac46-c90b-4eab-a709-f19aee569ff5",
      "metadata": {
        "tags": [],
        "id": "5d68ac46-c90b-4eab-a709-f19aee569ff5"
      },
      "outputs": [],
      "source": [
        "# print('~'*100, 'PREDICTIONS')\n",
        "# [tf.strings.reduce_join([num_to_char(word) for word in sentence]) for sentence in decoded]"
      ]
    },
    {
      "cell_type": "markdown",
      "id": "64622f98-e99b-4fed-a2cc-f0da82eb5431",
      "metadata": {
        "id": "64622f98-e99b-4fed-a2cc-f0da82eb5431"
      },
      "source": [
        "# Test on a Video"
      ]
    },
    {
      "cell_type": "code",
      "execution_count": null,
      "id": "a8b0c4d0-2031-4331-b91d-d87b1ae6f6e2",
      "metadata": {
        "id": "a8b0c4d0-2031-4331-b91d-d87b1ae6f6e2"
      },
      "outputs": [],
      "source": [
        "sample = load_data(tf.convert_to_tensor('/content/data/s1/pamoda_7.mp4'))"
      ]
    },
    {
      "cell_type": "code",
      "execution_count": null,
      "id": "0cca60e4-47a9-4683-8a75-48f4684f723d",
      "metadata": {
        "id": "0cca60e4-47a9-4683-8a75-48f4684f723d"
      },
      "outputs": [],
      "source": [
        "print('~'*100, 'REAL TEXT')\n",
        "[tf.strings.reduce_join([num_to_char(word) for word in sentence]) for sentence in [sample[1]]]"
      ]
    },
    {
      "cell_type": "code",
      "source": [
        "[sample[1]]"
      ],
      "metadata": {
        "id": "TtD2GpuTYOEW"
      },
      "id": "TtD2GpuTYOEW",
      "execution_count": null,
      "outputs": []
    },
    {
      "cell_type": "code",
      "source": [
        "num_to_char_result = num_to_char(sample[1].numpy().tolist())\n",
        "[char.decode('utf-8') for char in num_to_char_result.numpy()]"
      ],
      "metadata": {
        "id": "INxQA0n4X7_e"
      },
      "id": "INxQA0n4X7_e",
      "execution_count": null,
      "outputs": []
    },
    {
      "cell_type": "code",
      "execution_count": null,
      "id": "8cc5037c-1e32-435c-b0cc-01e1fb3b863c",
      "metadata": {
        "id": "8cc5037c-1e32-435c-b0cc-01e1fb3b863c"
      },
      "outputs": [],
      "source": [
        "yhat = model.predict(tf.expand_dims(sample[0], axis=0))"
      ]
    },
    {
      "cell_type": "code",
      "source": [
        "# yhat[0]"
      ],
      "metadata": {
        "id": "JHXW2SXRvS1R"
      },
      "id": "JHXW2SXRvS1R",
      "execution_count": null,
      "outputs": []
    },
    {
      "cell_type": "code",
      "source": [
        "tf.strings.reduce_join([num_to_char(x) for x in tf.argmax(yhat[0],axis=1)])"
      ],
      "metadata": {
        "id": "vNdnwEdsvpDC"
      },
      "id": "vNdnwEdsvpDC",
      "execution_count": null,
      "outputs": []
    },
    {
      "cell_type": "code",
      "execution_count": null,
      "id": "22c4f77d-715d-409f-bc5e-3ebe48704e8f",
      "metadata": {
        "id": "22c4f77d-715d-409f-bc5e-3ebe48704e8f"
      },
      "outputs": [],
      "source": [
        "decoded = tf.keras.backend.ctc_decode(yhat, input_length=[35], greedy=True)[0][0].numpy()"
      ]
    },
    {
      "cell_type": "code",
      "source": [
        "decoded"
      ],
      "metadata": {
        "id": "8kLCGN1IY5to"
      },
      "id": "8kLCGN1IY5to",
      "execution_count": null,
      "outputs": []
    },
    {
      "cell_type": "code",
      "execution_count": null,
      "id": "e4d12ecc-b634-499e-a4bc-db9f010835fb",
      "metadata": {
        "id": "e4d12ecc-b634-499e-a4bc-db9f010835fb"
      },
      "outputs": [],
      "source": [
        "print('~'*100, 'PREDICTIONS')\n",
        "[tf.strings.reduce_join([num_to_char(word) for word in sentence]) for sentence in decoded]"
      ]
    },
    {
      "cell_type": "code",
      "source": [
        "a = (tf.strings.reduce_join([num_to_char(word) for word in sentence]) for sentence in decoded)"
      ],
      "metadata": {
        "id": "dcM3RYxEZrrt"
      },
      "id": "dcM3RYxEZrrt",
      "execution_count": null,
      "outputs": []
    },
    {
      "cell_type": "code",
      "source": [
        "a"
      ],
      "metadata": {
        "id": "V05eEP5GZ455"
      },
      "id": "V05eEP5GZ455",
      "execution_count": null,
      "outputs": []
    },
    {
      "cell_type": "code",
      "source": [
        "# num_to_char_result =  num_to_char(decoded.numpy().tolist())\n",
        "[char.decode('utf-8') for char in a.numpy()]"
      ],
      "metadata": {
        "id": "JU47u9anZAF9"
      },
      "id": "JU47u9anZAF9",
      "execution_count": null,
      "outputs": []
    },
    {
      "cell_type": "code",
      "execution_count": null,
      "id": "551dfea2-de6b-4400-b71a-a17631529e3f",
      "metadata": {
        "id": "551dfea2-de6b-4400-b71a-a17631529e3f"
      },
      "outputs": [],
      "source": [
        "from google.colab import drive\n",
        "drive.mount('/content/drive')"
      ]
    },
    {
      "cell_type": "code",
      "execution_count": null,
      "id": "fa95863d-3832-47bf-8a77-ebaa38054ace",
      "metadata": {
        "id": "fa95863d-3832-47bf-8a77-ebaa38054ace"
      },
      "outputs": [],
      "source": [
        "!cp -r /content/models /content/drive/MyDrive/research/models_2"
      ]
    },
    {
      "cell_type": "code",
      "source": [],
      "metadata": {
        "id": "IMaYzxJ22DVR"
      },
      "id": "IMaYzxJ22DVR",
      "execution_count": null,
      "outputs": []
    }
  ],
  "metadata": {
    "kernelspec": {
      "display_name": "lips",
      "language": "python",
      "name": "lips"
    },
    "language_info": {
      "codemirror_mode": {
        "name": "ipython",
        "version": 3
      },
      "file_extension": ".py",
      "mimetype": "text/x-python",
      "name": "python",
      "nbconvert_exporter": "python",
      "pygments_lexer": "ipython3",
      "version": "3.9.12"
    },
    "colab": {
      "provenance": [],
      "gpuType": "T4",
      "include_colab_link": true
    },
    "accelerator": "GPU"
  },
  "nbformat": 4,
  "nbformat_minor": 5
}